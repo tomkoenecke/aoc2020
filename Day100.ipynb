{
 "cells": [
  {
   "cell_type": "code",
   "execution_count": 115,
   "metadata": {},
   "outputs": [],
   "source": [
    "data = \"\"\"28\n",
    "33\n",
    "18\n",
    "42\n",
    "31\n",
    "14\n",
    "46\n",
    "20\n",
    "48\n",
    "47\n",
    "24\n",
    "23\n",
    "49\n",
    "45\n",
    "19\n",
    "38\n",
    "39\n",
    "11\n",
    "1\n",
    "32\n",
    "25\n",
    "35\n",
    "8\n",
    "17\n",
    "7\n",
    "9\n",
    "4\n",
    "2\n",
    "34\n",
    "10\n",
    "3\"\"\""
   ]
  },
  {
   "cell_type": "code",
   "execution_count": 122,
   "metadata": {},
   "outputs": [],
   "source": [
    "data = \"\"\"76\n",
    "51\n",
    "117\n",
    "97\n",
    "7\n",
    "77\n",
    "63\n",
    "18\n",
    "137\n",
    "10\n",
    "23\n",
    "14\n",
    "130\n",
    "131\n",
    "8\n",
    "91\n",
    "17\n",
    "29\n",
    "2\n",
    "36\n",
    "110\n",
    "35\n",
    "113\n",
    "30\n",
    "112\n",
    "61\n",
    "83\n",
    "122\n",
    "28\n",
    "75\n",
    "124\n",
    "82\n",
    "101\n",
    "135\n",
    "42\n",
    "44\n",
    "128\n",
    "32\n",
    "55\n",
    "85\n",
    "119\n",
    "114\n",
    "72\n",
    "111\n",
    "107\n",
    "123\n",
    "54\n",
    "3\n",
    "98\n",
    "96\n",
    "11\n",
    "62\n",
    "22\n",
    "49\n",
    "37\n",
    "1\n",
    "104\n",
    "43\n",
    "24\n",
    "31\n",
    "129\n",
    "69\n",
    "4\n",
    "21\n",
    "48\n",
    "39\n",
    "9\n",
    "38\n",
    "58\n",
    "125\n",
    "81\n",
    "89\n",
    "65\n",
    "90\n",
    "118\n",
    "64\n",
    "25\n",
    "138\n",
    "16\n",
    "78\n",
    "92\n",
    "102\n",
    "88\n",
    "95\n",
    "132\n",
    "47\n",
    "50\n",
    "15\n",
    "68\n",
    "84\n",
    "136\n",
    "103\"\"\""
   ]
  },
  {
   "cell_type": "code",
   "execution_count": 108,
   "metadata": {},
   "outputs": [],
   "source": [
    "data = \"\"\"16\n",
    "10\n",
    "15\n",
    "5\n",
    "1\n",
    "11\n",
    "7\n",
    "19\n",
    "6\n",
    "12\n",
    "4\"\"\""
   ]
  },
  {
   "cell_type": "markdown",
   "metadata": {},
   "source": [
    "# Part 1"
   ]
  },
  {
   "cell_type": "code",
   "execution_count": 123,
   "metadata": {},
   "outputs": [],
   "source": [
    "outputs = [int(x) for x in data.splitlines()]"
   ]
  },
  {
   "cell_type": "code",
   "execution_count": 124,
   "metadata": {},
   "outputs": [],
   "source": [
    "# add outlet\n",
    "outputs.append(0)\n",
    "# add internal adapter\n",
    "outputs.append(max(outputs) + 3)\n",
    "\n",
    "outputs.sort()"
   ]
  },
  {
   "cell_type": "code",
   "execution_count": 125,
   "metadata": {},
   "outputs": [
    {
     "name": "stdout",
     "output_type": "stream",
     "text": [
      "1656\n"
     ]
    }
   ],
   "source": [
    "one = 0\n",
    "two = 0\n",
    "three = 0\n",
    "for i in range(len(outputs) - 1):\n",
    "    diff = outputs[i+1] - outputs[i]\n",
    "    if diff == 1:\n",
    "        one += 1\n",
    "    elif diff == 2:\n",
    "        two += 1\n",
    "    elif diff == 3:\n",
    "        three +=1\n",
    "    else:\n",
    "        print('jump', diff)\n",
    "\n",
    "print(one * three)"
   ]
  },
  {
   "cell_type": "markdown",
   "metadata": {},
   "source": [
    "# Part 2\n",
    "Idea: Solve every section for itself\n",
    "\n",
    "The list is divided into sections by three-count gaps\n",
    "\n",
    "Every section is pretty trivial, because there are just onegaps and no twogaps"
   ]
  },
  {
   "cell_type": "code",
   "execution_count": 127,
   "metadata": {},
   "outputs": [
    {
     "name": "stdout",
     "output_type": "stream",
     "text": [
      "[0, 1, 2, 3, 4]\n",
      "[7, 8, 9, 10, 11]\n",
      "[14, 15, 16, 17, 18]\n",
      "[21, 22, 23, 24, 25]\n",
      "[28, 29, 30, 31, 32]\n",
      "[35, 36, 37, 38, 39]\n",
      "[42, 43, 44]\n",
      "[47, 48, 49, 50, 51]\n",
      "[54, 55]\n",
      "[58]\n",
      "[61, 62, 63, 64, 65]\n",
      "[68, 69]\n",
      "[72]\n",
      "[75, 76, 77, 78]\n",
      "[81, 82, 83, 84, 85]\n",
      "[88, 89, 90, 91, 92]\n",
      "[95, 96, 97, 98]\n",
      "[101, 102, 103, 104]\n",
      "[107]\n",
      "[110, 111, 112, 113, 114]\n",
      "[117, 118, 119]\n",
      "[122, 123, 124, 125]\n",
      "[128, 129, 130, 131, 132]\n",
      "[135, 136, 137, 138]\n"
     ]
    }
   ],
   "source": [
    "# divide into sections\n",
    "sections = []\n",
    "remaining = outputs.copy()\n",
    "while True:\n",
    "    section = []\n",
    "    i = 0\n",
    "    while True:\n",
    "        section.append(remaining.pop(0))\n",
    "        if remaining[0] - section[-1] == 3:\n",
    "            # end section\n",
    "            print(section)\n",
    "            break\n",
    "        else:\n",
    "            i += 1\n",
    "        \n",
    "    sections.append(section)\n",
    "    if len(remaining) == 1:\n",
    "        break"
   ]
  },
  {
   "cell_type": "code",
   "execution_count": 128,
   "metadata": {},
   "outputs": [
    {
     "name": "stdout",
     "output_type": "stream",
     "text": [
      "56693912375296\n"
     ]
    }
   ],
   "source": [
    "total = 1\n",
    "for section in sections:\n",
    "    l = len(section)\n",
    "    if l <=2:\n",
    "        pass\n",
    "    elif l == 3:\n",
    "        total *= 2\n",
    "    elif l == 4:\n",
    "        total *= 4\n",
    "    elif l == 5:\n",
    "        total *= 7\n",
    "    else:\n",
    "        print('Exception')\n",
    "        \n",
    "print(total)"
   ]
  }
 ],
 "metadata": {
  "kernelspec": {
   "display_name": "Python 3",
   "language": "python",
   "name": "python3"
  },
  "language_info": {
   "codemirror_mode": {
    "name": "ipython",
    "version": 3
   },
   "file_extension": ".py",
   "mimetype": "text/x-python",
   "name": "python",
   "nbconvert_exporter": "python",
   "pygments_lexer": "ipython3",
   "version": "3.8.5"
  }
 },
 "nbformat": 4,
 "nbformat_minor": 4
}
